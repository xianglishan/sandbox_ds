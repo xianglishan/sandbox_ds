{
 "cells": [
  {
   "cell_type": "code",
   "execution_count": 2,
   "metadata": {},
   "outputs": [
    {
     "name": "stdout",
     "output_type": "stream",
     "text": [
      "2024-01-22 11:59:03     338464 signate-fuda2/sample_submission.csv\n",
      "2024-01-22 11:59:03    4842723 signate-fuda2/test.csv\n",
      "2024-01-22 11:59:03    4916051 signate-fuda2/train.csv\n"
     ]
    }
   ],
   "source": [
    "!aws s3 ls s3://xianglishan-sandbox/ --recursive"
   ]
  },
  {
   "cell_type": "code",
   "execution_count": 5,
   "metadata": {},
   "outputs": [],
   "source": [
    "import pandas as pd\n",
    "import numpy as np\n",
    "import os\n",
    "\n",
    "train = pd.read_csv('s3://xianglishan-sandbox/signate-fuda2/train.csv')\n",
    "test  = pd.read_csv('s3://xianglishan-sandbox/signate-fuda2/test.csv')\n",
    "sample_submission = pd.read_csv('s3://xianglishan-sandbox/signate-fuda2/sample_submission.csv')"
   ]
  },
  {
   "cell_type": "code",
   "execution_count": 7,
   "metadata": {},
   "outputs": [
    {
     "name": "stdout",
     "output_type": "stream",
     "text": [
      "<class 'pandas.core.frame.DataFrame'>\n",
      "RangeIndex: 42307 entries, 0 to 42306\n",
      "Data columns (total 21 columns):\n",
      " #   Column             Non-Null Count  Dtype  \n",
      "---  ------             --------------  -----  \n",
      " 0   Unnamed: 0         42307 non-null  int64  \n",
      " 1   Term               42307 non-null  int64  \n",
      " 2   NoEmp              42307 non-null  int64  \n",
      " 3   NewExist           42307 non-null  float64\n",
      " 4   CreateJob          42307 non-null  int64  \n",
      " 5   RetainedJob        42307 non-null  int64  \n",
      " 6   FranchiseCode      42307 non-null  int64  \n",
      " 7   RevLineCr          41228 non-null  object \n",
      " 8   LowDoc             41776 non-null  object \n",
      " 9   DisbursementDate   42157 non-null  object \n",
      " 10  MIS_Status         42307 non-null  int64  \n",
      " 11  Sector             42307 non-null  int64  \n",
      " 12  ApprovalDate       42307 non-null  object \n",
      " 13  ApprovalFY         42307 non-null  int64  \n",
      " 14  City               42307 non-null  object \n",
      " 15  State              42307 non-null  object \n",
      " 16  BankState          42296 non-null  object \n",
      " 17  DisbursementGross  42307 non-null  object \n",
      " 18  GrAppv             42307 non-null  object \n",
      " 19  SBA_Appv           42307 non-null  object \n",
      " 20  UrbanRural         42307 non-null  int64  \n",
      "dtypes: float64(1), int64(10), object(10)\n",
      "memory usage: 6.8+ MB\n"
     ]
    }
   ],
   "source": [
    "train.info()"
   ]
  },
  {
   "cell_type": "code",
   "execution_count": null,
   "metadata": {},
   "outputs": [],
   "source": []
  }
 ],
 "metadata": {
  "kernelspec": {
   "display_name": "Python 3",
   "language": "python",
   "name": "python3"
  },
  "language_info": {
   "codemirror_mode": {
    "name": "ipython",
    "version": 3
   },
   "file_extension": ".py",
   "mimetype": "text/x-python",
   "name": "python",
   "nbconvert_exporter": "python",
   "pygments_lexer": "ipython3",
   "version": "3.10.13"
  }
 },
 "nbformat": 4,
 "nbformat_minor": 2
}
