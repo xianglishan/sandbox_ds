{
 "cells": [
  {
   "cell_type": "code",
   "execution_count": null,
   "metadata": {},
   "outputs": [],
   "source": [
    "import numpy as np \n",
    "import pandas as pd \n",
    "import os"
   ]
  },
  {
   "cell_type": "code",
   "execution_count": null,
   "metadata": {},
   "outputs": [],
   "source": [
    "def preprocess(data: pd.DataFrame):\n",
    "    print(f\"********* もともとのデータshape:{data.shape} *********\")\n",
    "\n",
    "    # 新規ビジネスかどうか\n",
    "    data[\"NewExist\"] = data[\"NewExist\"].map({1: 0, 2: 1})\n",
    "    # フランチャイズコードは意味なさそう\n",
    "    data[\"FranchiseCode\"] = data[\"FranchiseCode\"].apply(\n",
    "        lambda x: 0 if x in (0, 1) else 1\n",
    "    )\n",
    "    # リボルビング信用枠か *Y = はい、N = いいえ\n",
    "    data[\"RevLineCr\"] = data[\"RevLineCr\"].apply(\n",
    "        lambda x: 1 if x == \"Y\" else 0 if x == \"N\" else np.nan\n",
    "    )\n",
    "    # 15 万ドル未満のローンを 1 ページの短い申請で処理できるプログラムか *Y = はい、N = いいえ\n",
    "    data[\"LowDoc\"] = data[\"LowDoc\"].apply(\n",
    "        lambda x: 1 if x == \"Y\" else 0 if x == \"N\" else np.nan\n",
    "    )\n",
    "    # Sector 31~33\t製造業, 44~45\t小売業, 48~49\t運輸業、倉庫業\n",
    "    data[\"Sector\"] = data[\"Sector\"].map({32: 31, 33: 31, 45: 44, 49: 48})\n",
    "    data = pd.get_dummies(data, columns=[\"Sector\"])\n",
    "    # City\n",
    "    MIS_City_list = [\n",
    "        \"BLACKLICK\",\n",
    "        \"SCOTTSDALE\",\n",
    "        \"SAN FRANCISCO\",\n",
    "        \"RALEIGH\",\n",
    "        \"HIALEAH\",\n",
    "        \"BRUNSWICK\",\n",
    "        \"ESCONDIDO\",\n",
    "        \"CLARENCE\",\n",
    "        \"REHOBOTH\",\n",
    "        \"BRAWLEY\",\n",
    "    ]\n",
    "    data[\"City\"] = data[\"City\"].apply(lambda x: x if x in MIS_City_list else np.nan)\n",
    "    data = pd.get_dummies(data, columns=[\"City\"])\n",
    "    # Stateは削除しちゃう\n",
    "    data = data.drop([\"State\"], axis=1)\n",
    "    # $のやつ\n",
    "    data[\"DisbursementGross\"] = data[\"DisbursementGross\"].str.replace(\"$\", \"\").str.replace(\",\", \"\").str.replace(\n",
    "        \" \", \"\"\n",
    "    ).astype(float)\n",
    "    data[\"GrAppv\"] = data[\"GrAppv\"].str.replace(\"$\", \"\").str.replace(\",\", \"\").str.replace(\n",
    "        \" \", \"\"\n",
    "    ).astype(float)\n",
    "    data[\"SBA_Appv\"] = data[\"SBA_Appv\"].str.replace(\"$\", \"\").str.replace(\",\", \"\").str.replace(\n",
    "        \" \", \"\"\n",
    "    ).astype(float)\n",
    "    # UrbanRural *1 = 都市部、2 = 田舎、0 = 未定義, 都会っぽい順に大きくしてみる\n",
    "    data[\"UrbanRural\"] = data[\"UrbanRural\"].map({1: 2, 2: 0, 0: 1})\n",
    "\n",
    "    print(f\"********* 加工後のデータshape{data.shape} *********\")\n",
    "    return data"
   ]
  },
  {
   "cell_type": "code",
   "execution_count": null,
   "metadata": {},
   "outputs": [],
   "source": [
    "train = pd.read_csv('s3://xianglishan-sandbox/signate-fuda2/train.csv', index_col=0)\n",
    "first_column = train.pop('MIS_Status')\n",
    "train.insert(0,'MIS_Status',first_column)  # MIS_Status はターゲットなので先頭にしておく\n",
    "test  = pd.read_csv('s3://xianglishan-sandbox/signate-fuda2/test.csv', index_col=0)\n",
    "\n",
    "print('train')\n",
    "train_preped = preprocess(train)\n",
    "\n",
    "print('\\ntest')\n",
    "test_preped  = preprocess(test)"
   ]
  },
  {
   "cell_type": "markdown",
   "metadata": {},
   "source": [
    "---"
   ]
  },
  {
   "cell_type": "code",
   "execution_count": null,
   "metadata": {},
   "outputs": [],
   "source": [
    "import numpy as np\n",
    "import pandas as pd\n",
    "\n",
    "\n",
    "def preprocess(data: pd.DataFrame()) -> pd.DataFrame():\n",
    "    print(f\"********* もともとのデータshape:{data.shape} *********\")\n",
    "\n",
    "    # $のやつ\n",
    "    def deal_doller(data: pd.DataFrame) -> pd.DataFrame:\n",
    "        data[\"DisbursementGross\"] = data[\"DisbursementGross\"].str.replace(\"$\", \"\").str.replace(\",\", \"\").str.replace(\n",
    "            \" \", \"\"\n",
    "        ).astype(float)\n",
    "        data[\"GrAppv\"] = data[\"GrAppv\"].str.replace(\"$\", \"\").str.replace(\",\", \"\").str.replace(\n",
    "            \" \", \"\"\n",
    "        ).astype(float)\n",
    "        data[\"SBA_Appv\"] = data[\"SBA_Appv\"].str.replace(\"$\", \"\").str.replace(\",\", \"\").str.replace(\n",
    "            \" \", \"\"\n",
    "        ).astype(float)\n",
    "        return data\n",
    "    data = deal_doller(data)\n",
    "\n",
    "\n",
    "    # いろいろ特徴量作成を追加する\n",
    "    def make_features(data: pd.DataFrame()) -> pd.DataFrame():\n",
    "        data = data.copy()\n",
    "        # 新規ビジネスかどうか\n",
    "        data[\"NewExist\"] = data[\"NewExist\"].map({1: 0, 2: 1})\n",
    "        # フランチャイズコードは意味なさそう\n",
    "        data[\"FranchiseCode\"] = data[\"FranchiseCode\"].apply(\n",
    "            lambda x: 0 if x in (0, 1) else 1\n",
    "        )\n",
    "        # リボルビング信用枠か *Y = はい、N = いいえ\n",
    "        data[\"RevLineCr\"] = data[\"RevLineCr\"].apply(\n",
    "            lambda x: 1 if x == \"Y\" else 0 if x == \"N\" else np.nan\n",
    "        )\n",
    "        # 15 万ドル未満のローンを 1 ページの短い申請で処理できるプログラムか *Y = はい、N = いいえ\n",
    "        data[\"LowDoc\"] = data[\"LowDoc\"].apply(\n",
    "            lambda x: 1 if x == \"Y\" else 0 if x == \"N\" else np.nan\n",
    "        )\n",
    "        # count encoding\n",
    "        #   Sector 31~33\t製造業, 44~45\t小売業, 48~49\t運輸業、倉庫業 -> one hot\n",
    "        data[\"Sector\"] = data[\"Sector\"].replace({32: 31, 33: 31, 45: 44, 49: 48})\n",
    "        for col in ['UrbanRural', 'State', 'BankState', 'City', 'Sector']:\n",
    "            count_dict = dict(data[col].value_counts())\n",
    "            data[f'{col}_count_encoding'] = data[col].map(count_dict)\n",
    "            data[f'{col}_count_encoding'] = data[col].map(count_dict).fillna(1).astype(int)\n",
    "        return data\n",
    "    \n",
    "    data = make_features(data)\n",
    "\n",
    "    print(f\"********* 加工後のデータshape{data.shape} *********\")\n",
    "    return data\n"
   ]
  },
  {
   "cell_type": "code",
   "execution_count": null,
   "metadata": {},
   "outputs": [],
   "source": [
    "train = pd.read_csv('s3://xianglishan-sandbox/signate-fuda2/train.csv', index_col=0)\n",
    "first_column = train.pop('MIS_Status')\n",
    "train.insert(0,'MIS_Status',first_column)  # MIS_Status はターゲットなので先頭にしておく\n",
    "test  = pd.read_csv('s3://xianglishan-sandbox/signate-fuda2/test.csv', index_col=0)\n",
    "\n",
    "print('train')\n",
    "train_preped = preprocess(train)\n",
    "\n",
    "print('\\ntest')\n",
    "test_preped  = preprocess(test)"
   ]
  },
  {
   "cell_type": "code",
   "execution_count": null,
   "metadata": {},
   "outputs": [],
   "source": [
    "train_preped"
   ]
  },
  {
   "cell_type": "markdown",
   "metadata": {},
   "source": [
    "---\n",
    "\n",
    "以下は実験用"
   ]
  },
  {
   "cell_type": "code",
   "execution_count": null,
   "metadata": {},
   "outputs": [],
   "source": [
    "pd.get_dummies(train, columns=['Sector']).columns"
   ]
  },
  {
   "cell_type": "code",
   "execution_count": null,
   "metadata": {},
   "outputs": [],
   "source": [
    "#dfの1行目、2行目の列名を連結した列名に変換する関数\n",
    "def rename_multicol(df):\n",
    "    df_col=df.columns #列名をコピー\n",
    "    df = df.T.reset_index(drop=False).T #一回列名をリセット\n",
    "    for  i in range(df.shape[1]): #列名を新たに定義\n",
    "        rename_col = {i:\"\".join(df_col[i])}\n",
    "        df = df.rename(columns = rename_col)     \n",
    "    df = df.drop([\"level_0\",\"level_1\"],axis=0)\n",
    "    return df\n",
    "\n",
    "df_temp = rename_multicol(train.groupby('City').agg({'MIS_Status':[\"sum\", \"count\"]}).reset_index())\n",
    "df_temp['MIS_ratio'] = 1 - (df_temp['MIS_Statussum'] / df_temp['MIS_Statuscount'])\n",
    "df_temp.query('MIS_Statuscount>=100 & MIS_ratio>=0.2')\\\n",
    "    .sort_values('MIS_ratio')['City'].tolist()"
   ]
  },
  {
   "cell_type": "code",
   "execution_count": null,
   "metadata": {},
   "outputs": [],
   "source": [
    "train['DisbursementGross'].str.replace(\"$\", \"\")\\\n",
    "                            .str.replace(',', '')\\\n",
    "                            .str.replace(' ', '')\\\n",
    "                            .astype(float)\n",
    "# $"
   ]
  },
  {
   "cell_type": "code",
   "execution_count": null,
   "metadata": {},
   "outputs": [],
   "source": []
  }
 ],
 "metadata": {
  "kernelspec": {
   "display_name": "Python 3",
   "language": "python",
   "name": "python3"
  },
  "language_info": {
   "codemirror_mode": {
    "name": "ipython",
    "version": 3
   },
   "file_extension": ".py",
   "mimetype": "text/x-python",
   "name": "python",
   "nbconvert_exporter": "python",
   "pygments_lexer": "ipython3",
   "version": "3.10.13"
  }
 },
 "nbformat": 4,
 "nbformat_minor": 2
}
